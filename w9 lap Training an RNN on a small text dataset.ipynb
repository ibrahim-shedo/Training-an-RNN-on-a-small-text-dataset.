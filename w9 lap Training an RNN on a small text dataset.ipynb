{
 "cells": [
  {
   "cell_type": "markdown",
   "id": "7c715b21-a7d6-433d-87c8-98a5b26eff0b",
   "metadata": {},
   "source": [
    "## Word Prediction Model",
    "## Training an RNN on a small text dataset.\n",
    "## Modifying the architecture to include LSTMs.\n",
    "## and then Evaluating the model's predictions on unseen text data.\n"
   ]
  },
  {
   "cell_type": "code",
   "execution_count": 1,
   "id": "fdfa46c3-7833-4f7d-b1af-c490cff06a43",
   "metadata": {},
   "outputs": [
    {
     "name": "stdout",
     "output_type": "stream",
     "text": [
      "\u001b[1m1/1\u001b[0m \u001b[32m━━━━━━━━━━━━━━━━━━━━\u001b[0m\u001b[37m\u001b[0m \u001b[1m0s\u001b[0m 236ms/step\n",
      "Predicted next word: tensorflow\n"
     ]
    }
   ],
   "source": [
    "import numpy as np\n",
    "import tensorflow as tf\n",
    "from tensorflow.keras.preprocessing.text import Tokenizer\n",
    "from tensorflow.keras.preprocessing.sequence import pad_sequences\n",
    "from tensorflow.keras.models import Sequential\n",
    "from tensorflow.keras.layers import SimpleRNN, LSTM, Dense, Embedding\n",
    "\n",
    "# Small text dataset\n",
    "text = [\"hello world\", \"hello tensorflow\", \"tensorflow is powerful\", \"world of AI\"]\n",
    "\n",
    "# Tokenization\n",
    "tokenizer = Tokenizer()\n",
    "tokenizer.fit_on_texts(text)\n",
    "word_index = tokenizer.word_index\n",
    "sequences = tokenizer.texts_to_sequences(text)\n",
    "\n",
    "# Prepare input-output pairs\n",
    "X, y = [], []\n",
    "for seq in sequences:\n",
    "    for i in range(1, len(seq)):  # Create input-output pairs\n",
    "        X.append(seq[:i])  # Input sequence\n",
    "        y.append(seq[i])    # Target word\n",
    "\n",
    "# Pad sequences to the same length\n",
    "X = pad_sequences(X, padding=\"pre\")\n",
    "y = np.array(y)\n",
    "\n",
    "# Build the model with LSTM\n",
    "model = Sequential([\n",
    "    Embedding(len(word_index) + 1, 10),  # Word embedding\n",
    "    LSTM(10, activation=\"relu\"),  # LSTM layer\n",
    "    Dense(len(word_index) + 1, activation=\"softmax\")  # Output layer\n",
    "])\n",
    "\n",
    "# Compile and train the model\n",
    "model.compile(loss=\"sparse_categorical_crossentropy\", optimizer=\"adam\", metrics=[\"accuracy\"])\n",
    "model.fit(X, y, epochs=50, verbose=0)\n",
    "\n",
    "# Function to predict the next word\n",
    "def predict_next_word(model, tokenizer, text_seq):\n",
    "    seq = tokenizer.texts_to_sequences([text_seq])  # Convert text to numbers\n",
    "    seq = pad_sequences(seq, maxlen=X.shape[1], padding=\"pre\")  # Pad input\n",
    "    pred_index = np.argmax(model.predict(seq))  # Get the highest probability\n",
    "    for word, index in tokenizer.word_index.items():\n",
    "        if index == pred_index:\n",
    "            return word  # Return predicted word\n",
    "\n",
    "# Example: Predict the next word for \"hello\"\n",
    "next_word = predict_next_word(model, tokenizer, \"hello\")\n",
    "print(f\"Predicted next word: {next_word}\")\n"
   ]
  },
  {
   "cell_type": "code",
   "execution_count": null,
   "id": "b5461048-8a09-47ca-9762-0469288aa6ec",
   "metadata": {},
   "outputs": [],
   "source": []
  }
 ],
 "metadata": {
  "kernelspec": {
   "display_name": "Python 3 (ipykernel)",
   "language": "python",
   "name": "python3"
  },
  "language_info": {
   "codemirror_mode": {
    "name": "ipython",
    "version": 3
   },
   "file_extension": ".py",
   "mimetype": "text/x-python",
   "name": "python",
   "nbconvert_exporter": "python",
   "pygments_lexer": "ipython3",
   "version": "3.12.4"
  }
 },
 "nbformat": 4,
 "nbformat_minor": 5
}
